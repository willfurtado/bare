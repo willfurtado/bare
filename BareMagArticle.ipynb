{
 "cells": [
  {
   "cell_type": "code",
   "execution_count": null,
   "id": "1fca7ba9",
   "metadata": {},
   "outputs": [],
   "source": [
    "from ipywidgets import interact_manual\n",
    "from IPython.core.display import HTML\n",
    "\n",
    "import xml.etree.ElementTree as ET\n",
    "import ipywidgets as widgets\n",
    "import pandas as pd\n",
    "\n",
    "import json\n",
    "import re"
   ]
  },
  {
   "cell_type": "markdown",
   "id": "aa96841d",
   "metadata": {},
   "source": [
    "### (Outdated) Using XML\n",
    "\n",
    "You can ignore this for now. Instead, focus your attention on the `Using JSON` section below, as this is currently in development."
   ]
  },
  {
   "cell_type": "code",
   "execution_count": null,
   "id": "60482233",
   "metadata": {},
   "outputs": [],
   "source": [
    "tree = ET.parse('bare.xml')\n",
    "root = tree.getroot()\n",
    "all_articles_xml = root[0]"
   ]
  },
  {
   "cell_type": "code",
   "execution_count": null,
   "id": "705fc7be",
   "metadata": {},
   "outputs": [],
   "source": [
    "@interact_manual(idx=widgets.IntSlider(min=57, max=len(all_articles)-1, step=1))\n",
    "def extract_article_info(idx):\n",
    "    \"\"\"Extracts article info for a given index\"\"\"\n",
    "    article = all_articles_xml[idx]\n",
    "    \n",
    "    # Format for earlier articles, not sure if it works for all\n",
    "    title, link, pubDate, creator = article[:4]\n",
    "    content = article[6]\n",
    "    \n",
    "    return_str = f\"{title.text}<br><br>{pubDate.text}<br><br>{creator.text}<br><br>{content.text}\"\n",
    "    display(HTML(return_str))"
   ]
  },
  {
   "cell_type": "markdown",
   "id": "5548a064",
   "metadata": {},
   "source": [
    "### Using JSON\n",
    "\n",
    "Please reference this section for loading and parsing old articles through the `bare.json` file. It must be in the same working directory as this notebook."
   ]
  },
  {
   "cell_type": "code",
   "execution_count": null,
   "id": "649e4eea",
   "metadata": {},
   "outputs": [],
   "source": [
    "# Load file into JSON object\n",
    "with open(\"bare.json\") as f:\n",
    "    data = json.load(f)\n",
    "    \n",
    "# Get all article and authors\n",
    "all_articles_json = data['rss']['channel']['item']\n",
    "all_authors_json = data['rss']['channel']['author']\n",
    "\n",
    "# Map usernames to author display names\n",
    "author_map = {}\n",
    "for author_d in all_authors_json:\n",
    "    creator, first, last = author_d['author_login']['__cdata'], \\\n",
    "                            author_d['author_first_name']['__cdata'], \\\n",
    "                            author_d['author_last_name']['__cdata'],\n",
    "    author_map[creator] = f\"{first} {last}\".title()\n",
    "    \n",
    "# Get map for title to article index\n",
    "title_to_idx = {}\n",
    "for idx, article in enumerate(all_articles_json):\n",
    "    title = article.get(\"title\", {}).get(\"__cdata\", \"No Title\")\n",
    "    cleaned_title = title.lower().strip()\n",
    "    title_to_idx[cleaned_title] = idx"
   ]
  },
  {
   "cell_type": "code",
   "execution_count": null,
   "id": "d3586c5a",
   "metadata": {
    "scrolled": false
   },
   "outputs": [],
   "source": [
    "@interact_manual(title=\"Enter Your Title Here\")\n",
    "def extract_article_info_json(title):\n",
    "    \"\"\"Extracts article info for a given index\"\"\"\n",
    "    idx = title_to_idx[title.lower().strip()]\n",
    "    article = all_articles_json[idx]\n",
    "    \n",
    "    # Get relevant attributes of article, filling in where not available\n",
    "    title = article.get('title', {}).get('__cdata', 'No Title')\n",
    "    date = article.get('pubDate', 'No Publish Date')\n",
    "    creator = article.get('creator', {}).get('__cdata', 'No Creator')\n",
    "    \n",
    "    # Match creator to display name\n",
    "    author = author_map[creator]\n",
    "    \n",
    "    # Grab all HMTL content\n",
    "    all_content = article.get('encoded')\n",
    "    content = \"\".join([c['__cdata'] for c in all_content])\n",
    "    \n",
    "    # Render as HTML string\n",
    "    return_str = f\"\"\"\n",
    "                <h1>{title}</h1><br><br><b>Date Published: \n",
    "                </b>{date}<br><br><b>Author: </b>{author}<br><br>{content}\n",
    "                \"\"\"\n",
    "    \n",
    "    # Show HTML string in notebook output\n",
    "    display(HTML(return_str))"
   ]
  },
  {
   "cell_type": "code",
   "execution_count": null,
   "id": "87baedc8",
   "metadata": {},
   "outputs": [],
   "source": [
    "# Create DataFrame with titles and dates\n",
    "titles, days, months, years = [], [], [], []\n",
    "pattern = r\"[\\w]{3}, ([\\d]{2}) ([\\w]{3}) ([\\d]{4})\"\n",
    "\n",
    "for a in all_articles_json:\n",
    "    try:\n",
    "        title = a.get('title', {}).get('__cdata', 'No Title')\n",
    "        date = a.get('pubDate', 'NO DATE')\n",
    "        match = re.match(pattern, date)\n",
    "        day, month, year = int(match[1]), match[2], int(match[3])\n",
    "    except TypeError:\n",
    "        day, month, year, title = None, None, None, None\n",
    "        \n",
    "    titles.append(title)\n",
    "    days.append(day)\n",
    "    months.append(month)\n",
    "    years.append(year)\n",
    "    \n",
    "# Show first few rows of the table\n",
    "dates = pd.DataFrame(data={\"Title\": titles, \"Day\": days, \"Month\": months, \"Year\": years})\n",
    "dates.head()"
   ]
  }
 ],
 "metadata": {
  "kernelspec": {
   "display_name": "Python 3 (ipykernel)",
   "language": "python",
   "name": "python3"
  },
  "language_info": {
   "codemirror_mode": {
    "name": "ipython",
    "version": 3
   },
   "file_extension": ".py",
   "mimetype": "text/x-python",
   "name": "python",
   "nbconvert_exporter": "python",
   "pygments_lexer": "ipython3",
   "version": "3.9.11"
  }
 },
 "nbformat": 4,
 "nbformat_minor": 5
}
